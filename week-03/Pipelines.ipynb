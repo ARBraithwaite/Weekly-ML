{
 "cells": [
  {
   "cell_type": "markdown",
   "metadata": {},
   "source": [
    "# Pipelines!\n",
    "\n",
    "In this notebook we can look at the Scikitlearn's Pipeline functionality. When productionizing a model, having a single pipeline object can be a priceless time saver.\n",
    "\n",
    "### Structure: \n",
    "A pipeline starts with some data, applies a series of transformations, and culminates on an estimator of some kind. Pipelines have 2 key methods:\n",
    "\n",
    "    fit: the internal estimators/transformers of the pipeline will learn from the training data\n",
    "    predict: the data will be transformed/estimated upon without modifying the pipeline"
   ]
  },
  {
   "cell_type": "markdown",
   "metadata": {},
   "source": [
    "### The data\n",
    "\n",
    "For this notebook we'll use the classic iris dataset.\n",
    "![](http://www.pybloggers.com/wp-content/uploads/2015/09/ratherreadblog.comwp-contentuploads201509iris_scatter-9c511da385a5344b661e2153e84c28382116721d.png)"
   ]
  },
  {
   "cell_type": "code",
   "execution_count": 218,
   "metadata": {},
   "outputs": [
    {
     "data": {
      "text/html": [
       "<div>\n",
       "<style scoped>\n",
       "    .dataframe tbody tr th:only-of-type {\n",
       "        vertical-align: middle;\n",
       "    }\n",
       "\n",
       "    .dataframe tbody tr th {\n",
       "        vertical-align: top;\n",
       "    }\n",
       "\n",
       "    .dataframe thead th {\n",
       "        text-align: right;\n",
       "    }\n",
       "</style>\n",
       "<table border=\"1\" class=\"dataframe\">\n",
       "  <thead>\n",
       "    <tr style=\"text-align: right;\">\n",
       "      <th></th>\n",
       "      <th>SepalLength</th>\n",
       "      <th>SepalWidth</th>\n",
       "      <th>PetalLength</th>\n",
       "      <th>PetalWidth</th>\n",
       "      <th>Name</th>\n",
       "    </tr>\n",
       "  </thead>\n",
       "  <tbody>\n",
       "    <tr>\n",
       "      <th>0</th>\n",
       "      <td>5.1</td>\n",
       "      <td>3.5</td>\n",
       "      <td>1.4</td>\n",
       "      <td>0.2</td>\n",
       "      <td>Iris-setosa</td>\n",
       "    </tr>\n",
       "    <tr>\n",
       "      <th>1</th>\n",
       "      <td>4.9</td>\n",
       "      <td>3.0</td>\n",
       "      <td>1.4</td>\n",
       "      <td>0.2</td>\n",
       "      <td>Iris-setosa</td>\n",
       "    </tr>\n",
       "    <tr>\n",
       "      <th>2</th>\n",
       "      <td>4.7</td>\n",
       "      <td>3.2</td>\n",
       "      <td>1.3</td>\n",
       "      <td>0.2</td>\n",
       "      <td>Iris-setosa</td>\n",
       "    </tr>\n",
       "    <tr>\n",
       "      <th>3</th>\n",
       "      <td>4.6</td>\n",
       "      <td>3.1</td>\n",
       "      <td>1.5</td>\n",
       "      <td>0.2</td>\n",
       "      <td>Iris-setosa</td>\n",
       "    </tr>\n",
       "    <tr>\n",
       "      <th>4</th>\n",
       "      <td>5.0</td>\n",
       "      <td>3.6</td>\n",
       "      <td>1.4</td>\n",
       "      <td>0.2</td>\n",
       "      <td>Iris-setosa</td>\n",
       "    </tr>\n",
       "  </tbody>\n",
       "</table>\n",
       "</div>"
      ],
      "text/plain": [
       "   SepalLength  SepalWidth  PetalLength  PetalWidth         Name\n",
       "0          5.1         3.5          1.4         0.2  Iris-setosa\n",
       "1          4.9         3.0          1.4         0.2  Iris-setosa\n",
       "2          4.7         3.2          1.3         0.2  Iris-setosa\n",
       "3          4.6         3.1          1.5         0.2  Iris-setosa\n",
       "4          5.0         3.6          1.4         0.2  Iris-setosa"
      ]
     },
     "execution_count": 218,
     "metadata": {},
     "output_type": "execute_result"
    }
   ],
   "source": [
    "# The data\n",
    "import pandas as pd\n",
    "from sklearn.model_selection import train_test_split\n",
    "data = pd.read_csv('https://raw.githubusercontent.com/mkleinbort/resource-datasets/master/iris/iris.csv')\n",
    "\n",
    "data.head()"
   ]
  },
  {
   "cell_type": "code",
   "execution_count": 219,
   "metadata": {},
   "outputs": [],
   "source": [
    "X = data.drop('Name', axis=1)\n",
    "y = data['Name'].map({'Iris-setosa':0, 'Iris-versicolor':1, 'Iris-virginica':2})\n",
    "\n",
    "X_train, X_test, y_train, y_test = train_test_split(X,y, test_size=0.3, random_state=1)"
   ]
  },
  {
   "cell_type": "markdown",
   "metadata": {},
   "source": [
    "### Forming a basic pipeline"
   ]
  },
  {
   "cell_type": "code",
   "execution_count": 222,
   "metadata": {},
   "outputs": [],
   "source": [
    "from sklearn.pipeline import Pipeline\n",
    "from sklearn.preprocessing import StandardScaler # a transformer\n",
    "from sklearn.linear_model import LogisticRegression # an estimator\n",
    "\n",
    "# A pipeline consists of a list of \"steps\", \n",
    "# each step is a tuple of the form: \n",
    "#      (name of the step, object that implements the appropiate functionality)\n",
    "\n",
    "pipeline1 = Pipeline([('scaler', StandardScaler()),\n",
    "                     ('logreg', LogisticRegression())])\n",
    "\n"
   ]
  },
  {
   "cell_type": "code",
   "execution_count": 223,
   "metadata": {},
   "outputs": [
    {
     "data": {
      "text/plain": [
       "0.8222222222222222"
      ]
     },
     "execution_count": 223,
     "metadata": {},
     "output_type": "execute_result"
    }
   ],
   "source": [
    "# usage\n",
    "pipeline1.fit(X_train, y_train)\n",
    "pipeline1.score(X_test, y_test)"
   ]
  },
  {
   "cell_type": "markdown",
   "metadata": {},
   "source": [
    "### A not so basic example"
   ]
  },
  {
   "cell_type": "code",
   "execution_count": 221,
   "metadata": {},
   "outputs": [],
   "source": [
    "# transformers\n",
    "from sklearn.pipeline import Pipeline\n",
    "from sklearn.preprocessing import QuantileTransformer, PolynomialFeatures, MinMaxScaler\n",
    "from sklearn.decomposition import PCA\n",
    "from umap import UMAP # you may not have the umap library, it's awesome https://github.com/lmcinnes/umap; pip install umap-learn\n",
    "\n",
    "# estimators\n",
    "from sklearn.linear_model import LogisticRegression\n",
    "from sklearn.ensemble import RandomForestClassifier\n",
    "\n",
    "\n",
    "pipeline2 = Pipeline([\n",
    "    ('scaler', QuantileTransformer(output_distribution='normal')),\n",
    "    ('polynomial_features', PolynomialFeatures(degree=3)),\n",
    "    ('dimensionality_reduction', PCA(n_components=5)),\n",
    "    ('logreg', LogisticRegression(C=0.1))\n",
    "])"
   ]
  },
  {
   "cell_type": "code",
   "execution_count": 192,
   "metadata": {},
   "outputs": [
    {
     "data": {
      "text/plain": [
       "0.9333333333333333"
      ]
     },
     "execution_count": 192,
     "metadata": {},
     "output_type": "execute_result"
    }
   ],
   "source": [
    "# usage\n",
    "pipeline2.fit(X_train, y_train)\n",
    "pipeline2.score(X_test, y_test)"
   ]
  },
  {
   "cell_type": "code",
   "execution_count": 224,
   "metadata": {},
   "outputs": [
    {
     "data": {
      "text/plain": [
       "0.9555555555555556"
      ]
     },
     "execution_count": 224,
     "metadata": {},
     "output_type": "execute_result"
    }
   ],
   "source": [
    "# you can use the pipeline class to easily try out various combinations of features, feature engineering, hyperparametsrs and models\n",
    "\n",
    "pipeline3 = Pipeline([\n",
    "    #('scaler1', QuantileTransformer(output_distribution='normal')),\n",
    "    #('scaler2', QuantileTransformer(output_distribution='uniform')),\n",
    "    #('scaler3', StandardScaler()),\n",
    "    #('scaler4', MinMaxScaler()),\n",
    "    #('polynomial_features', PolynomialFeatures(degree=3)),\n",
    "    #('dimensionality_reduction_PCA', PCA(n_components=5)),\n",
    "    #('dimensionality_reduction_UMAP', UMAP(n_components=5)),\n",
    "    #('model_lr', LogisticRegression(C=0.1))\n",
    "    ('model_rfc', RandomForestClassifier(n_estimators=100, n_jobs=-1))\n",
    "])\n",
    "\n",
    "pipeline3.fit(X_train, y_train)\n",
    "pipeline3.score(X_test, y_test)"
   ]
  },
  {
   "cell_type": "markdown",
   "metadata": {},
   "source": [
    "# Pipelines are easy to productionize!!!\n",
    "\n",
    "In most cases, you can direcly save a trained pipeline to disk, and load it from disk ready to make predictions"
   ]
  },
  {
   "cell_type": "code",
   "execution_count": 225,
   "metadata": {},
   "outputs": [],
   "source": [
    "import pickle\n",
    "\n",
    "pipeline3.fit(X_train, y_train)\n",
    "\n",
    "# saves the pipeline to disk\n",
    "pickle.dump(pipeline3, open('my_pipeline.pickle', 'wb'))"
   ]
  },
  {
   "cell_type": "code",
   "execution_count": 226,
   "metadata": {},
   "outputs": [
    {
     "data": {
      "text/plain": [
       "array([0, 1, 1, 0, 2, 1, 2, 0, 0, 2, 1, 0, 2, 1, 1, 0, 1, 1, 0, 0, 1, 1,\n",
       "       2, 0, 2, 1, 0, 0, 1, 2, 1, 2, 1, 2, 2, 0, 1, 0, 1, 2, 2, 0, 1, 2,\n",
       "       1])"
      ]
     },
     "execution_count": 226,
     "metadata": {},
     "output_type": "execute_result"
    }
   ],
   "source": [
    "# loads the pipeline from disk\n",
    "inference_pipeline = pickle.load(open('my_pipeline.pickle', 'rb'))\n",
    "\n",
    "# ready for inference\n",
    "inference_pipeline.predict(X_test)"
   ]
  },
  {
   "cell_type": "markdown",
   "metadata": {},
   "source": [
    "# Building your own transformers\n",
    "\n",
    "you can! They just have to implement the .fit() and .transform() methods. For most cases, a functional transformer using the FunctionTransformer class is more than enough.\n",
    "\n",
    "See here how we can use it to inject visualizations into our pipeline"
   ]
  },
  {
   "cell_type": "code",
   "execution_count": 227,
   "metadata": {},
   "outputs": [
    {
     "data": {
      "image/png": "[encoded data removed]",
      "text/plain": [
       "<matplotlib.figure.Figure at 0x1a2d3bc198>"
      ]
     },
     "metadata": {},
     "output_type": "display_data"
    }
   ],
   "source": [
    "import matplotlib.pyplot as plt\n",
    "from sklearn.preprocessing import FunctionTransformer\n",
    "\n",
    "\n",
    "def boxplot(X):\n",
    "    data = pd.DataFrame(X)\n",
    "    data.plot(kind='box')\n",
    "    plt.show()\n",
    "    return X\n",
    "\n",
    "\n",
    "v = FunctionTransformer(func=boxplot)\n",
    "_ = v.fit_transform(X, y)"
   ]
  },
  {
   "cell_type": "code",
   "execution_count": 228,
   "metadata": {},
   "outputs": [
    {
     "data": {
      "image/png": "[encoded data removed]",
      "text/plain": [
       "<matplotlib.figure.Figure at 0x1a29caf748>"
      ]
     },
     "metadata": {},
     "output_type": "display_data"
    },
    {
     "data": {
      "image/png": "[encoded data removed]",
      "text/plain": [
       "<matplotlib.figure.Figure at 0x1a2a647ac8>"
      ]
     },
     "metadata": {},
     "output_type": "display_data"
    },
    {
     "data": {
      "text/plain": [
       "0.9555555555555556"
      ]
     },
     "execution_count": 228,
     "metadata": {},
     "output_type": "execute_result"
    }
   ],
   "source": [
    "# Usage in a pipeline\n",
    "\n",
    "pipeline4 = Pipeline([\n",
    "    #('scaler1', QuantileTransformer(output_distribution='normal')),\n",
    "    #('scaler2', QuantileTransformer(output_distribution='uniform')),\n",
    "    #('scaler3', StandardScaler()),\n",
    "    ('scaler4', MinMaxScaler()),\n",
    "    ('boxplot', FunctionTransformer(func=boxplot)),\n",
    "    #('polynomial_features', PolynomialFeatures(degree=3)),\n",
    "    #('dimensionality_reduction_PCA', PCA(n_components=5)),\n",
    "    #('dimensionality_reduction_UMAP', UMAP(n_components=5)),\n",
    "    #('model_lr', LogisticRegression(C=0.1))\n",
    "    ('model_rfc', RandomForestClassifier(n_estimators=100, n_jobs=-1))\n",
    "])\n",
    "\n",
    "pipeline4.fit(X_train, y_train)\n",
    "pipeline4.score(X_test, y_test)"
   ]
  },
  {
   "cell_type": "code",
   "execution_count": 229,
   "metadata": {},
   "outputs": [
    {
     "name": "stdout",
     "output_type": "stream",
     "text": [
      "TRAINING ========================================\n"
     ]
    },
    {
     "data": {
      "image/png": "[encoded data removed]",
      "text/plain": [
       "<matplotlib.figure.Figure at 0x1a2ba431d0>"
      ]
     },
     "metadata": {},
     "output_type": "display_data"
    },
    {
     "data": {
      "image/png": "[encoded data removed]",
      "text/plain": [
       "<matplotlib.figure.Figure at 0x1a2adedb00>"
      ]
     },
     "metadata": {},
     "output_type": "display_data"
    },
    {
     "name": "stdout",
     "output_type": "stream",
     "text": [
      "INFERENCE ========================================\n"
     ]
    },
    {
     "data": {
      "image/png": "[encoded data removed]",
      "text/plain": [
       "<matplotlib.figure.Figure at 0x1a2a409f28>"
      ]
     },
     "metadata": {},
     "output_type": "display_data"
    },
    {
     "data": {
      "image/png": "[encoded data removed]",
      "text/plain": [
       "<matplotlib.figure.Figure at 0x1a2ce44a20>"
      ]
     },
     "metadata": {},
     "output_type": "display_data"
    },
    {
     "data": {
      "text/plain": [
       "0.9555555555555556"
      ]
     },
     "execution_count": 229,
     "metadata": {},
     "output_type": "execute_result"
    }
   ],
   "source": [
    "# Another example\n",
    "\n",
    "def projection2d(X, target=None):\n",
    "    data = pd.DataFrame(X)\n",
    "\n",
    "    if target:\n",
    "        data['target'] = target\n",
    "        data.plot(kind='scatter', x=0, y=1, c='target')\n",
    "    else:\n",
    "        data.plot(kind='scatter', x=0, y=1)\n",
    "\n",
    "    plt.xticks([])\n",
    "    plt.yticks([])\n",
    "    plt.show()\n",
    "    return X\n",
    "\n",
    "pipeline5 = Pipeline([\n",
    "    #('scaler1', QuantileTransformer(output_distribution='normal')),\n",
    "    ('scaler2', QuantileTransformer(output_distribution='uniform')),\n",
    "    #('scaler3', StandardScaler()),\n",
    "    #('scaler4', MinMaxScaler()),\n",
    "    ('boxplot', FunctionTransformer(func=boxplot)),\n",
    "    ('polynomial_features', PolynomialFeatures(degree=5)),\n",
    "    ('dimensionality_reduction_PCA', PCA(n_components=3)),\n",
    "    #('dimensionality_reduction_UMAP', UMAP(n_components=5)),\n",
    "    ('2d-projection', FunctionTransformer(projection2d)),\n",
    "    #('model_lr', LogisticRegression(C=0.1))\n",
    "    ('model_rfc', RandomForestClassifier(n_estimators=200, n_jobs=-1))\n",
    "])\n",
    "\n",
    "print('TRAINING','='*40)\n",
    "pipeline5.fit(X_train, y_train)\n",
    "\n",
    "print('INFERENCE','='*40)\n",
    "pipeline5.score(X_test, y_test)"
   ]
  },
  {
   "cell_type": "markdown",
   "metadata": {},
   "source": [
    "# Pipelines behave like models\n",
    "\n",
    "One of the best features of the scikit learn echosystem is the consistency between its components. Since pipelines include the .fit and .predict methods, they can be treated just like any other estimator (i.e. model). "
   ]
  },
  {
   "cell_type": "code",
   "execution_count": 242,
   "metadata": {},
   "outputs": [
    {
     "data": {
      "text/plain": [
       "0.98"
      ]
     },
     "execution_count": 242,
     "metadata": {},
     "output_type": "execute_result"
    }
   ],
   "source": [
    "pipeline_6 = Pipeline([\n",
    "    ('polynomial_features', PolynomialFeatures(degree=3)),\n",
    "    ('model_lr', LogisticRegression(C=0.1))\n",
    "])\n"
   ]
  },
  {
   "cell_type": "code",
   "execution_count": 246,
   "metadata": {},
   "outputs": [
    {
     "data": {
      "text/plain": [
       "0.98"
      ]
     },
     "execution_count": 246,
     "metadata": {},
     "output_type": "execute_result"
    }
   ],
   "source": [
    "# Using Cross Validation\n",
    "from sklearn.model_selection import cross_val_predict\n",
    "from sklearn.metrics import accuracy_score\n",
    "\n",
    "y_pred = cross_val_predict(pipeline_6, X, y, cv=5)\n",
    "accuracy_score(y, y_pred)"
   ]
  },
  {
   "cell_type": "code",
   "execution_count": 247,
   "metadata": {},
   "outputs": [
    {
     "data": {
      "text/plain": [
       "GridSearchCV(cv=5, error_score='raise',\n",
       "       estimator=Pipeline(memory=None,\n",
       "     steps=[('polynomial_features', PolynomialFeatures(degree=3, include_bias=True, interaction_only=False)), ('model_lr', LogisticRegression(C=0.1, class_weight=None, dual=False, fit_intercept=True,\n",
       "          intercept_scaling=1, max_iter=100, multi_class='ovr', n_jobs=1,\n",
       "          penalty='l2', random_state=None, solver='liblinear', tol=0.0001,\n",
       "          verbose=0, warm_start=False))]),\n",
       "       fit_params=None, iid=True, n_jobs=1,\n",
       "       param_grid={'polynomial_features__degree': [1, 2, 3, 5], 'model_lr__C': array([1.e-04, 1.e-03, 1.e-02, 1.e-01, 1.e+00, 1.e+01, 1.e+02, 1.e+03,\n",
       "       1.e+04])},\n",
       "       pre_dispatch='2*n_jobs', refit=True, return_train_score=True,\n",
       "       scoring=None, verbose=0)"
      ]
     },
     "execution_count": 247,
     "metadata": {},
     "output_type": "execute_result"
    }
   ],
   "source": [
    "# Using GridSearch\n",
    "from sklearn.model_selection import GridSearchCV\n",
    "import numpy as np\n",
    "\n",
    "param_grid = {'polynomial_features__degree':[1,2,3,5], \n",
    "             'model_lr__C':np.logspace(-4,4,9)}\n",
    "\n",
    "gs = GridSearchCV(pipeline_6, param_grid, cv=5)\n",
    "gs.fit(X,y)"
   ]
  },
  {
   "cell_type": "code",
   "execution_count": 244,
   "metadata": {},
   "outputs": [
    {
     "data": {
      "text/plain": [
       "{'model_lr__C': 0.0001, 'polynomial_features__degree': 5}"
      ]
     },
     "execution_count": 244,
     "metadata": {},
     "output_type": "execute_result"
    }
   ],
   "source": [
    "gs.best_params_"
   ]
  },
  {
   "cell_type": "code",
   "execution_count": 245,
   "metadata": {},
   "outputs": [
    {
     "data": {
      "text/plain": [
       "Pipeline(memory=None,\n",
       "     steps=[('polynomial_features', PolynomialFeatures(degree=5, include_bias=True, interaction_only=False)), ('model_lr', LogisticRegression(C=0.0001, class_weight=None, dual=False,\n",
       "          fit_intercept=True, intercept_scaling=1, max_iter=100,\n",
       "          multi_class='ovr', n_jobs=1, penalty='l2', random_state=None,\n",
       "          solver='liblinear', tol=0.0001, verbose=0, warm_start=False))])"
      ]
     },
     "execution_count": 245,
     "metadata": {},
     "output_type": "execute_result"
    }
   ],
   "source": [
    "gs.best_estimator_"
   ]
  },
  {
   "cell_type": "code",
   "execution_count": null,
   "metadata": {},
   "outputs": [],
   "source": []
  }
 ],
 "metadata": {
  "kernelspec": {
   "display_name": "Python 3",
   "language": "python",
   "name": "python3"
  },
  "language_info": {
   "codemirror_mode": {
    "name": "ipython",
    "version": 3
   },
   "file_extension": ".py",
   "mimetype": "text/x-python",
   "name": "python",
   "nbconvert_exporter": "python",
   "pygments_lexer": "ipython3",
   "version": "3.6.4"
  }
 },
 "nbformat": 4,
 "nbformat_minor": 2
}
