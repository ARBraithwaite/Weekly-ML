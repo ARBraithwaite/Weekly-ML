{
 "cells": [
  {
   "cell_type": "code",
   "execution_count": 4,
   "metadata": {},
   "outputs": [],
   "source": [
    "import warnings\n",
    "warnings.filterwarnings('ignore')\n",
    "\n",
    "import numpy as np\n",
    "import pandas as pd\n",
    "import matplotlib.pyplot as plt\n",
    "from PIL import Image\n",
    "\n",
    "from helpers import display_dataframe, format_image\n",
    "    \n"
   ]
  },
  {
   "cell_type": "code",
   "execution_count": 5,
   "metadata": {},
   "outputs": [
    {
     "name": "stdout",
     "output_type": "stream",
     "text": [
      "Extracting data/fashion/train-images-idx3-ubyte.gz\n",
      "Extracting data/fashion/train-labels-idx1-ubyte.gz\n",
      "Extracting data/fashion/t10k-images-idx3-ubyte.gz\n",
      "Extracting data/fashion/t10k-labels-idx1-ubyte.gz\n"
     ]
    }
   ],
   "source": [
    "data = input_data.read_data_sets('data/fashion', source_url='http://fashion-mnist.s3-website.eu-central-1.amazonaws.com/')"
   ]
  },
  {
   "cell_type": "code",
   "execution_count": 6,
   "metadata": {},
   "outputs": [],
   "source": [
    "df = pd.DataFrame({'image_array':[format_image(x) for x in data.train.images], \n",
    "                   'label':data.train.labels})\n",
    "\n",
    "\n",
    "label_dict = {\n",
    "    0:'Top',\n",
    "    1:'Trouser',\n",
    "    2:'Pullover',\n",
    "    3:'Dress',\n",
    "    4:'Coat',\n",
    "    5:'Sandal',\n",
    "    6:'Shirt',\n",
    "    7:'Sneaker',\n",
    "    8:'Bag',\n",
    "    9:'Boot'}\n",
    "\n",
    "df = (df\n",
    "      .assign(image_pil = lambda x: x['image_array'].apply(Image.fromarray))\n",
    "      .assign(target=lambda x: x['label'].map(label_dict))\n",
    "     )"
   ]
  },
  {
   "cell_type": "code",
   "execution_count": 7,
   "metadata": {},
   "outputs": [
    {
     "data": {
      "text/html": [
       "<table border=\"1\" class=\"dataframe\">\n",
       "  <thead>\n",
       "    <tr style=\"text-align: right;\">\n",
       "      <th></th>\n",
       "      <th>image_array</th>\n",
       "      <th>label</th>\n",
       "      <th>image_pil</th>\n",
       "      <th>target</th>\n",
       "    </tr>\n",
       "  </thead>\n",
       "  <tbody>\n",
       "    <tr>\n",
       "      <th>0</th>\n",
       "      <td>(28, 28) numpy array</td>\n",
       "      <td>4</td>\n",
       "      <td><img src=\"data:image/jpeg; base64, /9j/4AAQSkZJRgABAQAAAQABAAD/2wBDAAgGBgcGBQgHBwcJCQgKDBQNDAsLDBkSEw8UHRofHh0aHBwgJC4nICIsIxwcKDcpLDAxNDQ0Hyc5PTgyPC4zNDL/wAALCAAcABwBAREA/8QAHwAAAQUBAQEBAQEAAAAAAAAAAAECAwQFBgcICQoL/8QAtRAAAgEDAwIEAwUFBAQAAAF9AQIDAAQRBRIhMUEGE1FhByJxFDKBkaEII0KxwRVS0fAkM2JyggkKFhcYGRolJicoKSo0NTY3ODk6Q0RFRkdISUpTVFVWV1hZWmNkZWZnaGlqc3R1dnd4eXqDhIWGh4iJipKTlJWWl5iZmqKjpKWmp6ipqrKztLW2t7i5usLDxMXGx8jJytLT1NXW19jZ2uHi4+Tl5ufo6erx8vP09fb3+Pn6/9oACAEBAAA/APDtE0e71/WbXSrEKbm5fYm9sKO5JPoACT9K+lfDHwz8JaPpFrb3ukWN9ftEBc3Fy7SAyYydoI4XOcYGemea4n4o/DDT4LBtY8M2lvZi1ieW+tBOzEqCPmQHIGBuJGRwOBnivEa9H+CGn/bviIkm3P2W0lm+mcR/+1K+h5rZIp5FRmAWUAc9t1I2kw6hpF5ZEEfaEaDHbDqVJr40dGikaN1KupKsD2Ir1v8AZ5Xb411KYsFC6eVyenMsZ/8AZa9rgna5gWYg7pCjYHvg/wBas212YtQSEybVkEgAz95lCsMe+Ax+ma+P9fjSLxHqkcYwiXcqqPQBziu6+DVw8WsaxEoGJdPcE85H0xUFt8afFNtaxW/labII0VQzWxBOAACdrAZ49K0tC+KfiDXfFukrdxWISCSWVVihK7mMEicndnGGPFeb63O1zr2o3DKqtLdSuVXoCWJwM9q//9k=\" alt=\"Black box\"></td>\n",
       "      <td>Coat</td>\n",
       "    </tr>\n",
       "    <tr>\n",
       "      <th>1</th>\n",
       "      <td>(28, 28) numpy array</td>\n",
       "      <td>0</td>\n",
       "      <td><img src=\"data:image/jpeg; base64, /9j/4AAQSkZJRgABAQAAAQABAAD/2wBDAAgGBgcGBQgHBwcJCQgKDBQNDAsLDBkSEw8UHRofHh0aHBwgJC4nICIsIxwcKDcpLDAxNDQ0Hyc5PTgyPC4zNDL/wAALCAAcABwBAREA/8QAHwAAAQUBAQEBAQEAAAAAAAAAAAECAwQFBgcICQoL/8QAtRAAAgEDAwIEAwUFBAQAAAF9AQIDAAQRBRIhMUEGE1FhByJxFDKBkaEII0KxwRVS0fAkM2JyggkKFhcYGRolJicoKSo0NTY3ODk6Q0RFRkdISUpTVFVWV1hZWmNkZWZnaGlqc3R1dnd4eXqDhIWGh4iJipKTlJWWl5iZmqKjpKWmp6ipqrKztLW2t7i5usLDxMXGx8jJytLT1NXW19jZ2uHi4+Tl5ufo6erx8vP09fb3+Pn6/9oACAEBAAA/APJ/A+lR6lqlw80W9IICUyMjzGIC8evUj6V1C62+n/6Jf6LpepJAf3P2+1BaLnO0PwSpJPyn17VJbxnxRfSHUbW2jtgnlrDBarFFAvYIFHy4LE5zkk9cV5dLE8MzxSqVkRirKeoI4Iq3pOr3+iX8V5p91LbzRurgxtjJU5GR0I9jxXqPiCy/tDVZbpVwGlZwVQElTztxxj1HbtWXq+o3ug+C54bWdreW6nhidosK3lgM+MjodwGdp/SvNWZnYszFmY5JJySaltYftF5BB/z0kVPzOK9nLK59QSa5vxlAJvDTv08l0kHvyV/9mrzapIJntriKePG+Nw65GRkHNeoaHqc2oWkc0qRqxGcJkD9TXN+KtcuTbHTvLhEMn3mwd3BB9cdR6Vx9f//Z\" alt=\"Black box\"></td>\n",
       "      <td>Top</td>\n",
       "    </tr>\n",
       "    <tr>\n",
       "      <th>2</th>\n",
       "      <td>(28, 28) numpy array</td>\n",
       "      <td>7</td>\n",
       "      <td><img src=\"data:image/jpeg; base64, /9j/4AAQSkZJRgABAQAAAQABAAD/2wBDAAgGBgcGBQgHBwcJCQgKDBQNDAsLDBkSEw8UHRofHh0aHBwgJC4nICIsIxwcKDcpLDAxNDQ0Hyc5PTgyPC4zNDL/wAALCAAcABwBAREA/8QAHwAAAQUBAQEBAQEAAAAAAAAAAAECAwQFBgcICQoL/8QAtRAAAgEDAwIEAwUFBAQAAAF9AQIDAAQRBRIhMUEGE1FhByJxFDKBkaEII0KxwRVS0fAkM2JyggkKFhcYGRolJicoKSo0NTY3ODk6Q0RFRkdISUpTVFVWV1hZWmNkZWZnaGlqc3R1dnd4eXqDhIWGh4iJipKTlJWWl5iZmqKjpKWmp6ipqrKztLW2t7i5usLDxMXGx8jJytLT1NXW19jZ2uHi4+Tl5ufo6erx8vP09fb3+Pn6/9oACAEBAAA/APn+itZ/C+ux2v2k6ReGHnLrCzBcf3sfd/HGe1ZJGDg9amhtLm5BMFvLLj+4hb+VdV4a8G3V7qVo13bO0UgWRYAjb5UO4BgAQdmUYFhnBxxXtd9ePDp8tnb+ZLO5DTFZg5iAAAVXbG4KBt556/WvKfHWlpfavaXAW4MjWg80iIA7g7jk55OMc/4ViafLpzmFoNWjgkjI2Q38b7VOOcFQy4z3O36V1Fp4w1PSLVhBc6B5JA3BWBLHpnAfcf8AJpo8bXt1cec1xohdABtclFPXHU8//qrI1rxddSXiGWaxciPj7Ku9QMk4Jz15/lXDUUUV/9k=\" alt=\"Black box\"></td>\n",
       "      <td>Sneaker</td>\n",
       "    </tr>\n",
       "    <tr>\n",
       "      <th>3</th>\n",
       "      <td>(28, 28) numpy array</td>\n",
       "      <td>9</td>\n",
       "      <td><img src=\"data:image/jpeg; base64, /9j/4AAQSkZJRgABAQAAAQABAAD/2wBDAAgGBgcGBQgHBwcJCQgKDBQNDAsLDBkSEw8UHRofHh0aHBwgJC4nICIsIxwcKDcpLDAxNDQ0Hyc5PTgyPC4zNDL/wAALCAAcABwBAREA/8QAHwAAAQUBAQEBAQEAAAAAAAAAAAECAwQFBgcICQoL/8QAtRAAAgEDAwIEAwUFBAQAAAF9AQIDAAQRBRIhMUEGE1FhByJxFDKBkaEII0KxwRVS0fAkM2JyggkKFhcYGRolJicoKSo0NTY3ODk6Q0RFRkdISUpTVFVWV1hZWmNkZWZnaGlqc3R1dnd4eXqDhIWGh4iJipKTlJWWl5iZmqKjpKWmp6ipqrKztLW2t7i5usLDxMXGx8jJytLT1NXW19jZ2uHi4+Tl5ufo6erx8vP09fb3+Pn6/9oACAEBAAA/APn+tDQ9Im17WrXS7eWKKa5fYjzEhQcEjOAT2x0r0cfATxA8YKarpZc9VzJx+OyuV1bwLJ4f1B7DWdZ0+zulAYJ87hlPRgQvTr1weK5Ku3+GXhzUNV8VWV/FEy2VlMs0kxHBK8hF9WJ/LqeBX1BpkMpgLzL8/CjaOFGOn618y/GWCSH4o6o7jAmWGRPceUg/mDWx4e1XwINOt7WaG2jlWMBnurONyX7sWYA8+m4j0rtNI8QeDdIBuJtaiuGODsyFVcA4CgNgDBPArorD4maLdWfnWKiWPey5lu4oBkeisc46c4rxb4t6lDrvi6C9jaCMGzRCqTiXBDOOo4rz2iiiv//Z\" alt=\"Black box\"></td>\n",
       "      <td>Boot</td>\n",
       "    </tr>\n",
       "    <tr>\n",
       "      <th>4</th>\n",
       "      <td>(28, 28) numpy array</td>\n",
       "      <td>9</td>\n",
       "      <td><img src=\"data:image/jpeg; base64, /9j/4AAQSkZJRgABAQAAAQABAAD/2wBDAAgGBgcGBQgHBwcJCQgKDBQNDAsLDBkSEw8UHRofHh0aHBwgJC4nICIsIxwcKDcpLDAxNDQ0Hyc5PTgyPC4zNDL/wAALCAAcABwBAREA/8QAHwAAAQUBAQEBAQEAAAAAAAAAAAECAwQFBgcICQoL/8QAtRAAAgEDAwIEAwUFBAQAAAF9AQIDAAQRBRIhMUEGE1FhByJxFDKBkaEII0KxwRVS0fAkM2JyggkKFhcYGRolJicoKSo0NTY3ODk6Q0RFRkdISUpTVFVWV1hZWmNkZWZnaGlqc3R1dnd4eXqDhIWGh4iJipKTlJWWl5iZmqKjpKWmp6ipqrKztLW2t7i5usLDxMXGx8jJytLT1NXW19jZ2uHi4+Tl5ufo6erx8vP09fb3+Pn6/9oACAEBAAA/APn+rulaRfa1eiz0+DzpyrMF3qvAGTyxAq7c+EPEVrqMdhLo159pkUsiJEX3gYyQVyCBkZI6ZrNvrG6028ks72B4LiMgPG4wVyM/yNV69I+FOg6kviOPUpbSSOwMEieZINokJHAUdW5x044r3iOLy7e8OyQLLO8i+Zcbww2qAUx91fl6etfNPxIV0+IOrq4wRIm33XYu0/iMGvRPBng7w1YWVtdT31nd3zKJGdkMqqTyAo6D6kZ47dK76G80aJ/nvd46/cPT8e1Xm1XTyCyy3DYPO2D73Y5yQMjjn868m+Ivh+y1vxJHeLPNaMbZUdZViBYhmAbmQdsD8K8eooor/9k=\" alt=\"Black box\"></td>\n",
       "      <td>Boot</td>\n",
       "    </tr>\n",
       "  </tbody>\n",
       "</table>"
      ],
      "text/plain": [
       "<IPython.core.display.HTML object>"
      ]
     },
     "execution_count": 7,
     "metadata": {},
     "output_type": "execute_result"
    }
   ],
   "source": [
    "display_dataframe(df.head(5))"
   ]
  }
 ],
 "metadata": {
  "kernelspec": {
   "display_name": "Python 3",
   "language": "python",
   "name": "python3"
  },
  "language_info": {
   "codemirror_mode": {
    "name": "ipython",
    "version": 3
   },
   "file_extension": ".py",
   "mimetype": "text/x-python",
   "name": "python",
   "nbconvert_exporter": "python",
   "pygments_lexer": "ipython3",
   "version": "3.7.0"
  }
 },
 "nbformat": 4,
 "nbformat_minor": 2
}
