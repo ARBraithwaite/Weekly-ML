{
 "cells": [
  {
   "cell_type": "markdown",
   "metadata": {},
   "source": [
    "# Python, tell me a Joke\n",
    "\n",
    "The `jester` dataset contains ~25k users and their opinions on 100 jokes.\n",
    "\n",
    "Not every user has rated every joke, but the goal is to use the exisitng ratings to predict how a given user would rate a given joke.\n",
    "\n",
    "\n"
   ]
  },
  {
   "cell_type": "markdown",
   "metadata": {},
   "source": [
    "### Jester dataset\n",
    "\n",
    "\n",
    "Website: http://eigentaste.berkeley.edu/dataset/\n",
    "\n",
    "Data file: http://eigentaste.berkeley.edu/dataset/jester_dataset_1_1.zip\n",
    "\n",
    "Jokes: http://eigentaste.berkeley.edu/dataset/jester_dataset_1_joke_texts.zip"
   ]
  },
  {
   "cell_type": "code",
   "execution_count": 1,
   "metadata": {},
   "outputs": [],
   "source": [
    "import pandas as pd\n",
    "import numpy as np \n",
    "\n",
    "columns = ['tally'] + [f'joke_{i}' for i in list(range(1,101))]\n",
    "\n",
    "df = pd.read_excel('/Users/mkleinbort/Downloads/jester-data-1.xls', encoding='latin', names=columns)\n",
    "\n",
    "# In this dataset, a rating of 99 implies the user did not rate that joke\n",
    "df.loc[:,'joke_1':] = df.loc[:,'joke_1':].applymap(lambda x: np.nan if x == 99.0 else x)"
   ]
  },
  {
   "cell_type": "code",
   "execution_count": 2,
   "metadata": {},
   "outputs": [
    {
     "data": {
      "text/html": [
       "<div>\n",
       "<style scoped>\n",
       "    .dataframe tbody tr th:only-of-type {\n",
       "        vertical-align: middle;\n",
       "    }\n",
       "\n",
       "    .dataframe tbody tr th {\n",
       "        vertical-align: top;\n",
       "    }\n",
       "\n",
       "    .dataframe thead th {\n",
       "        text-align: right;\n",
       "    }\n",
       "</style>\n",
       "<table border=\"1\" class=\"dataframe\">\n",
       "  <thead>\n",
       "    <tr style=\"text-align: right;\">\n",
       "      <th></th>\n",
       "      <th>tally</th>\n",
       "      <th>joke_1</th>\n",
       "      <th>joke_2</th>\n",
       "      <th>joke_3</th>\n",
       "      <th>joke_4</th>\n",
       "      <th>joke_5</th>\n",
       "      <th>joke_6</th>\n",
       "      <th>joke_7</th>\n",
       "      <th>joke_8</th>\n",
       "      <th>joke_9</th>\n",
       "      <th>...</th>\n",
       "      <th>joke_91</th>\n",
       "      <th>joke_92</th>\n",
       "      <th>joke_93</th>\n",
       "      <th>joke_94</th>\n",
       "      <th>joke_95</th>\n",
       "      <th>joke_96</th>\n",
       "      <th>joke_97</th>\n",
       "      <th>joke_98</th>\n",
       "      <th>joke_99</th>\n",
       "      <th>joke_100</th>\n",
       "    </tr>\n",
       "  </thead>\n",
       "  <tbody>\n",
       "    <tr>\n",
       "      <th>0</th>\n",
       "      <td>100</td>\n",
       "      <td>4.08</td>\n",
       "      <td>-0.29</td>\n",
       "      <td>6.36</td>\n",
       "      <td>4.37</td>\n",
       "      <td>-2.38</td>\n",
       "      <td>-9.66</td>\n",
       "      <td>-0.73</td>\n",
       "      <td>-5.34</td>\n",
       "      <td>8.88</td>\n",
       "      <td>...</td>\n",
       "      <td>2.82</td>\n",
       "      <td>-4.95</td>\n",
       "      <td>-0.29</td>\n",
       "      <td>7.86</td>\n",
       "      <td>-0.19</td>\n",
       "      <td>-2.14</td>\n",
       "      <td>3.06</td>\n",
       "      <td>0.34</td>\n",
       "      <td>-4.32</td>\n",
       "      <td>1.07</td>\n",
       "    </tr>\n",
       "    <tr>\n",
       "      <th>1</th>\n",
       "      <td>49</td>\n",
       "      <td>NaN</td>\n",
       "      <td>NaN</td>\n",
       "      <td>NaN</td>\n",
       "      <td>NaN</td>\n",
       "      <td>9.03</td>\n",
       "      <td>9.27</td>\n",
       "      <td>9.03</td>\n",
       "      <td>9.27</td>\n",
       "      <td>NaN</td>\n",
       "      <td>...</td>\n",
       "      <td>NaN</td>\n",
       "      <td>NaN</td>\n",
       "      <td>NaN</td>\n",
       "      <td>9.08</td>\n",
       "      <td>NaN</td>\n",
       "      <td>NaN</td>\n",
       "      <td>NaN</td>\n",
       "      <td>NaN</td>\n",
       "      <td>NaN</td>\n",
       "      <td>NaN</td>\n",
       "    </tr>\n",
       "    <tr>\n",
       "      <th>2</th>\n",
       "      <td>48</td>\n",
       "      <td>NaN</td>\n",
       "      <td>8.35</td>\n",
       "      <td>NaN</td>\n",
       "      <td>NaN</td>\n",
       "      <td>1.80</td>\n",
       "      <td>8.16</td>\n",
       "      <td>-2.82</td>\n",
       "      <td>6.21</td>\n",
       "      <td>NaN</td>\n",
       "      <td>...</td>\n",
       "      <td>NaN</td>\n",
       "      <td>NaN</td>\n",
       "      <td>NaN</td>\n",
       "      <td>0.53</td>\n",
       "      <td>NaN</td>\n",
       "      <td>NaN</td>\n",
       "      <td>NaN</td>\n",
       "      <td>NaN</td>\n",
       "      <td>NaN</td>\n",
       "      <td>NaN</td>\n",
       "    </tr>\n",
       "    <tr>\n",
       "      <th>3</th>\n",
       "      <td>91</td>\n",
       "      <td>8.50</td>\n",
       "      <td>4.61</td>\n",
       "      <td>-4.17</td>\n",
       "      <td>-5.39</td>\n",
       "      <td>1.36</td>\n",
       "      <td>1.60</td>\n",
       "      <td>7.04</td>\n",
       "      <td>4.61</td>\n",
       "      <td>-0.44</td>\n",
       "      <td>...</td>\n",
       "      <td>5.19</td>\n",
       "      <td>5.58</td>\n",
       "      <td>4.27</td>\n",
       "      <td>5.19</td>\n",
       "      <td>5.73</td>\n",
       "      <td>1.55</td>\n",
       "      <td>3.11</td>\n",
       "      <td>6.55</td>\n",
       "      <td>1.80</td>\n",
       "      <td>1.60</td>\n",
       "    </tr>\n",
       "    <tr>\n",
       "      <th>4</th>\n",
       "      <td>100</td>\n",
       "      <td>-6.17</td>\n",
       "      <td>-3.54</td>\n",
       "      <td>0.44</td>\n",
       "      <td>-8.50</td>\n",
       "      <td>-7.09</td>\n",
       "      <td>-4.32</td>\n",
       "      <td>-8.69</td>\n",
       "      <td>-0.87</td>\n",
       "      <td>-6.65</td>\n",
       "      <td>...</td>\n",
       "      <td>-3.54</td>\n",
       "      <td>-6.89</td>\n",
       "      <td>-0.68</td>\n",
       "      <td>-2.96</td>\n",
       "      <td>-2.18</td>\n",
       "      <td>-3.35</td>\n",
       "      <td>0.05</td>\n",
       "      <td>-9.08</td>\n",
       "      <td>-5.05</td>\n",
       "      <td>-3.45</td>\n",
       "    </tr>\n",
       "  </tbody>\n",
       "</table>\n",
       "<p>5 rows × 101 columns</p>\n",
       "</div>"
      ],
      "text/plain": [
       "   tally  joke_1  joke_2  joke_3  joke_4  joke_5  joke_6  joke_7  joke_8  \\\n",
       "0    100    4.08   -0.29    6.36    4.37   -2.38   -9.66   -0.73   -5.34   \n",
       "1     49     NaN     NaN     NaN     NaN    9.03    9.27    9.03    9.27   \n",
       "2     48     NaN    8.35     NaN     NaN    1.80    8.16   -2.82    6.21   \n",
       "3     91    8.50    4.61   -4.17   -5.39    1.36    1.60    7.04    4.61   \n",
       "4    100   -6.17   -3.54    0.44   -8.50   -7.09   -4.32   -8.69   -0.87   \n",
       "\n",
       "   joke_9    ...     joke_91  joke_92  joke_93  joke_94  joke_95  joke_96  \\\n",
       "0    8.88    ...        2.82    -4.95    -0.29     7.86    -0.19    -2.14   \n",
       "1     NaN    ...         NaN      NaN      NaN     9.08      NaN      NaN   \n",
       "2     NaN    ...         NaN      NaN      NaN     0.53      NaN      NaN   \n",
       "3   -0.44    ...        5.19     5.58     4.27     5.19     5.73     1.55   \n",
       "4   -6.65    ...       -3.54    -6.89    -0.68    -2.96    -2.18    -3.35   \n",
       "\n",
       "   joke_97  joke_98  joke_99  joke_100  \n",
       "0     3.06     0.34    -4.32      1.07  \n",
       "1      NaN      NaN      NaN       NaN  \n",
       "2      NaN      NaN      NaN       NaN  \n",
       "3     3.11     6.55     1.80      1.60  \n",
       "4     0.05    -9.08    -5.05     -3.45  \n",
       "\n",
       "[5 rows x 101 columns]"
      ]
     },
     "execution_count": 2,
     "metadata": {},
     "output_type": "execute_result"
    }
   ],
   "source": [
    "df.head()"
   ]
  },
  {
   "cell_type": "code",
   "execution_count": 4,
   "metadata": {},
   "outputs": [
    {
     "data": {
      "text/plain": [
       "<matplotlib.axes._subplots.AxesSubplot at 0x11a3cbc50>"
      ]
     },
     "execution_count": 4,
     "metadata": {},
     "output_type": "execute_result"
    },
    {
     "data": {
      "image/png": "[encoded data removed]",
      "text/plain": [
       "<Figure size 1800x720 with 2 Axes>"
      ]
     },
     "metadata": {
      "needs_background": "light"
     },
     "output_type": "display_data"
    }
   ],
   "source": [
    "import missingno as msgn\n",
    "msgn.matrix(df)"
   ]
  },
  {
   "cell_type": "markdown",
   "metadata": {},
   "source": [
    "Note: 'tally' is the number of jokes a user has rated, the scale for 'funnyness' is -10 to 10"
   ]
  },
  {
   "cell_type": "code",
   "execution_count": 5,
   "metadata": {},
   "outputs": [
    {
     "data": {
      "text/html": [
       "<div>\n",
       "<style scoped>\n",
       "    .dataframe tbody tr th:only-of-type {\n",
       "        vertical-align: middle;\n",
       "    }\n",
       "\n",
       "    .dataframe tbody tr th {\n",
       "        vertical-align: top;\n",
       "    }\n",
       "\n",
       "    .dataframe thead th {\n",
       "        text-align: right;\n",
       "    }\n",
       "</style>\n",
       "<table border=\"1\" class=\"dataframe\">\n",
       "  <thead>\n",
       "    <tr style=\"text-align: right;\">\n",
       "      <th></th>\n",
       "      <th>count</th>\n",
       "      <th>mean</th>\n",
       "      <th>std</th>\n",
       "      <th>min</th>\n",
       "      <th>25%</th>\n",
       "      <th>50%</th>\n",
       "      <th>75%</th>\n",
       "      <th>max</th>\n",
       "    </tr>\n",
       "  </thead>\n",
       "  <tbody>\n",
       "    <tr>\n",
       "      <th>tally</th>\n",
       "      <td>24982.0</td>\n",
       "      <td>72.467417</td>\n",
       "      <td>21.860035</td>\n",
       "      <td>36.00</td>\n",
       "      <td>53.00</td>\n",
       "      <td>72.00</td>\n",
       "      <td>100.00</td>\n",
       "      <td>100.00</td>\n",
       "    </tr>\n",
       "    <tr>\n",
       "      <th>joke_1</th>\n",
       "      <td>16451.0</td>\n",
       "      <td>0.905104</td>\n",
       "      <td>5.171508</td>\n",
       "      <td>-9.95</td>\n",
       "      <td>-2.67</td>\n",
       "      <td>1.60</td>\n",
       "      <td>4.90</td>\n",
       "      <td>9.37</td>\n",
       "    </tr>\n",
       "    <tr>\n",
       "      <th>joke_2</th>\n",
       "      <td>18183.0</td>\n",
       "      <td>0.207988</td>\n",
       "      <td>5.597119</td>\n",
       "      <td>-9.95</td>\n",
       "      <td>-4.42</td>\n",
       "      <td>0.83</td>\n",
       "      <td>4.81</td>\n",
       "      <td>9.37</td>\n",
       "    </tr>\n",
       "    <tr>\n",
       "      <th>joke_3</th>\n",
       "      <td>16641.0</td>\n",
       "      <td>0.317174</td>\n",
       "      <td>5.399415</td>\n",
       "      <td>-9.95</td>\n",
       "      <td>-4.03</td>\n",
       "      <td>0.78</td>\n",
       "      <td>4.66</td>\n",
       "      <td>9.37</td>\n",
       "    </tr>\n",
       "    <tr>\n",
       "      <th>joke_4</th>\n",
       "      <td>15607.0</td>\n",
       "      <td>-1.448684</td>\n",
       "      <td>5.234546</td>\n",
       "      <td>-9.95</td>\n",
       "      <td>-5.87</td>\n",
       "      <td>-1.46</td>\n",
       "      <td>2.52</td>\n",
       "      <td>9.37</td>\n",
       "    </tr>\n",
       "  </tbody>\n",
       "</table>\n",
       "</div>"
      ],
      "text/plain": [
       "          count       mean        std    min    25%    50%     75%     max\n",
       "tally   24982.0  72.467417  21.860035  36.00  53.00  72.00  100.00  100.00\n",
       "joke_1  16451.0   0.905104   5.171508  -9.95  -2.67   1.60    4.90    9.37\n",
       "joke_2  18183.0   0.207988   5.597119  -9.95  -4.42   0.83    4.81    9.37\n",
       "joke_3  16641.0   0.317174   5.399415  -9.95  -4.03   0.78    4.66    9.37\n",
       "joke_4  15607.0  -1.448684   5.234546  -9.95  -5.87  -1.46    2.52    9.37"
      ]
     },
     "execution_count": 5,
     "metadata": {},
     "output_type": "execute_result"
    }
   ],
   "source": [
    "df.describe().T.head()"
   ]
  },
  {
   "cell_type": "markdown",
   "metadata": {},
   "source": [
    "# Goal\n",
    "Minimize MSE, where the error is defined as the discrepancy between a user's rating of a joke, and the system's prediction of that user's rating."
   ]
  },
  {
   "cell_type": "markdown",
   "metadata": {},
   "source": [
    "### Surprise\n",
    "\n",
    "A helpful library, though still early in its development."
   ]
  },
  {
   "cell_type": "code",
   "execution_count": 6,
   "metadata": {},
   "outputs": [],
   "source": [
    "data_for_surprise = df.drop(['tally'], axis=1).melt().reset_index().dropna()"
   ]
  },
  {
   "cell_type": "code",
   "execution_count": 7,
   "metadata": {},
   "outputs": [
    {
     "data": {
      "text/html": [
       "<div>\n",
       "<style scoped>\n",
       "    .dataframe tbody tr th:only-of-type {\n",
       "        vertical-align: middle;\n",
       "    }\n",
       "\n",
       "    .dataframe tbody tr th {\n",
       "        vertical-align: top;\n",
       "    }\n",
       "\n",
       "    .dataframe thead th {\n",
       "        text-align: right;\n",
       "    }\n",
       "</style>\n",
       "<table border=\"1\" class=\"dataframe\">\n",
       "  <thead>\n",
       "    <tr style=\"text-align: right;\">\n",
       "      <th></th>\n",
       "      <th>index</th>\n",
       "      <th>variable</th>\n",
       "      <th>value</th>\n",
       "    </tr>\n",
       "  </thead>\n",
       "  <tbody>\n",
       "    <tr>\n",
       "      <th>0</th>\n",
       "      <td>0</td>\n",
       "      <td>joke_1</td>\n",
       "      <td>4.08</td>\n",
       "    </tr>\n",
       "    <tr>\n",
       "      <th>3</th>\n",
       "      <td>3</td>\n",
       "      <td>joke_1</td>\n",
       "      <td>8.50</td>\n",
       "    </tr>\n",
       "    <tr>\n",
       "      <th>4</th>\n",
       "      <td>4</td>\n",
       "      <td>joke_1</td>\n",
       "      <td>-6.17</td>\n",
       "    </tr>\n",
       "    <tr>\n",
       "      <th>6</th>\n",
       "      <td>6</td>\n",
       "      <td>joke_1</td>\n",
       "      <td>6.84</td>\n",
       "    </tr>\n",
       "    <tr>\n",
       "      <th>7</th>\n",
       "      <td>7</td>\n",
       "      <td>joke_1</td>\n",
       "      <td>-3.79</td>\n",
       "    </tr>\n",
       "  </tbody>\n",
       "</table>\n",
       "</div>"
      ],
      "text/plain": [
       "   index variable  value\n",
       "0      0   joke_1   4.08\n",
       "3      3   joke_1   8.50\n",
       "4      4   joke_1  -6.17\n",
       "6      6   joke_1   6.84\n",
       "7      7   joke_1  -3.79"
      ]
     },
     "execution_count": 7,
     "metadata": {},
     "output_type": "execute_result"
    }
   ],
   "source": [
    "data_for_surprise.head()"
   ]
  },
  {
   "cell_type": "code",
   "execution_count": 8,
   "metadata": {},
   "outputs": [],
   "source": [
    "from surprise import Dataset, Reader\n",
    "\n",
    "data = Dataset.load_from_df(data_for_surprise, Reader(rating_scale=(-10,10)))"
   ]
  },
  {
   "cell_type": "code",
   "execution_count": 9,
   "metadata": {},
   "outputs": [],
   "source": [
    "from surprise import SVD\n",
    "\n",
    "# An algorithm for collaborative recomendations based on matrix factorization\n",
    "model = SVD()"
   ]
  },
  {
   "cell_type": "code",
   "execution_count": 10,
   "metadata": {},
   "outputs": [
    {
     "name": "stdout",
     "output_type": "stream",
     "text": [
      "Evaluating RMSE of algorithm SVD on 5 split(s).\n",
      "\n",
      "                  Fold 1  Fold 2  Fold 3  Fold 4  Fold 5  Mean    Std     \n",
      "RMSE (testset)    4.9891  4.9893  4.9970  4.9897  4.9951  4.9920  0.0033  \n",
      "Fit time          96.56   104.56  106.44  105.20  93.71   101.30  5.14    \n",
      "Test time         3.63    3.97    3.88    3.98    2.97    3.69    0.38    \n",
      "CPU times: user 9min 6s, sys: 7.54 s, total: 9min 14s\n",
      "Wall time: 9min 18s\n"
     ]
    }
   ],
   "source": [
    "%%time\n",
    "from surprise.model_selection import cross_validate\n",
    "\n",
    "results = cross_validate(model, data, measures=['RMSE'], cv=5, verbose=True)"
   ]
  },
  {
   "cell_type": "code",
   "execution_count": null,
   "metadata": {},
   "outputs": [],
   "source": []
  }
 ],
 "metadata": {
  "kernelspec": {
   "display_name": "Python 3",
   "language": "python",
   "name": "python3"
  },
  "language_info": {
   "codemirror_mode": {
    "name": "ipython",
    "version": 3
   },
   "file_extension": ".py",
   "mimetype": "text/x-python",
   "name": "python",
   "nbconvert_exporter": "python",
   "pygments_lexer": "ipython3",
   "version": "3.6.6"
  }
 },
 "nbformat": 4,
 "nbformat_minor": 2
}
